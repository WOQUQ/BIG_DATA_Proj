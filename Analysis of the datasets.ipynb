{
 "cells": [
  {
   "cell_type": "markdown",
   "metadata": {},
   "source": [
    "# Analysis of the dataset"
   ]
  },
  {
   "cell_type": "code",
   "execution_count": 57,
   "metadata": {},
   "outputs": [],
   "source": [
    "import pandas as pd\n",
    "import os\n",
    "import numpy as np\n",
    "\n",
    "DATA_PATH = \"./\"\n",
    "\n",
    "def load_train_data(data_path = DATA_PATH):\n",
    "    csv_path = os.path.join(data_path, \"train.csv\")\n",
    "    return pd.read_csv(csv_path)"
   ]
  },
  {
   "cell_type": "code",
   "execution_count": 58,
   "metadata": {},
   "outputs": [],
   "source": [
    "dataset = load_train_data()"
   ]
  },
  {
   "cell_type": "code",
   "execution_count": 59,
   "metadata": {},
   "outputs": [
    {
     "data": {
      "text/plain": [
       "(58881, 129)"
      ]
     },
     "execution_count": 59,
     "metadata": {},
     "output_type": "execute_result"
    }
   ],
   "source": [
    "dataset.shape"
   ]
  },
  {
   "cell_type": "markdown",
   "metadata": {},
   "source": [
    "### So we have 58881 * data(128 features) + 58881 * target(label)\n",
    "    - Feature array shape (58881, 128) \n",
    "    - Target array shape  (58881, 1)"
   ]
  },
  {
   "cell_type": "code",
   "execution_count": 60,
   "metadata": {},
   "outputs": [
    {
     "data": {
      "text/html": [
       "<div>\n",
       "<style scoped>\n",
       "    .dataframe tbody tr th:only-of-type {\n",
       "        vertical-align: middle;\n",
       "    }\n",
       "\n",
       "    .dataframe tbody tr th {\n",
       "        vertical-align: top;\n",
       "    }\n",
       "\n",
       "    .dataframe thead th {\n",
       "        text-align: right;\n",
       "    }\n",
       "</style>\n",
       "<table border=\"1\" class=\"dataframe\">\n",
       "  <thead>\n",
       "    <tr style=\"text-align: right;\">\n",
       "      <th></th>\n",
       "      <th>Product_Info_1</th>\n",
       "      <th>Product_Info_2</th>\n",
       "      <th>Product_Info_3</th>\n",
       "      <th>Product_Info_4</th>\n",
       "      <th>Product_Info_5</th>\n",
       "      <th>Product_Info_6</th>\n",
       "      <th>Product_Info_7</th>\n",
       "      <th>Ins_Age</th>\n",
       "      <th>Ht</th>\n",
       "      <th>Wt</th>\n",
       "      <th>...</th>\n",
       "      <th>Medical_Keyword_40</th>\n",
       "      <th>Medical_Keyword_41</th>\n",
       "      <th>Medical_Keyword_42</th>\n",
       "      <th>Medical_Keyword_43</th>\n",
       "      <th>Medical_Keyword_44</th>\n",
       "      <th>Medical_Keyword_45</th>\n",
       "      <th>Medical_Keyword_46</th>\n",
       "      <th>Medical_Keyword_47</th>\n",
       "      <th>Medical_Keyword_48</th>\n",
       "      <th>Response</th>\n",
       "    </tr>\n",
       "  </thead>\n",
       "  <tbody>\n",
       "    <tr>\n",
       "      <th>0</th>\n",
       "      <td>1</td>\n",
       "      <td>A8</td>\n",
       "      <td>26</td>\n",
       "      <td>0.230769</td>\n",
       "      <td>2</td>\n",
       "      <td>3</td>\n",
       "      <td>1</td>\n",
       "      <td>0.492537</td>\n",
       "      <td>0.563636</td>\n",
       "      <td>0.225941</td>\n",
       "      <td>...</td>\n",
       "      <td>0</td>\n",
       "      <td>0</td>\n",
       "      <td>0</td>\n",
       "      <td>0</td>\n",
       "      <td>0</td>\n",
       "      <td>0</td>\n",
       "      <td>0</td>\n",
       "      <td>0</td>\n",
       "      <td>0</td>\n",
       "      <td>7</td>\n",
       "    </tr>\n",
       "    <tr>\n",
       "      <th>1</th>\n",
       "      <td>1</td>\n",
       "      <td>D2</td>\n",
       "      <td>26</td>\n",
       "      <td>1.000000</td>\n",
       "      <td>3</td>\n",
       "      <td>3</td>\n",
       "      <td>1</td>\n",
       "      <td>0.671642</td>\n",
       "      <td>0.781818</td>\n",
       "      <td>0.326360</td>\n",
       "      <td>...</td>\n",
       "      <td>0</td>\n",
       "      <td>0</td>\n",
       "      <td>0</td>\n",
       "      <td>0</td>\n",
       "      <td>0</td>\n",
       "      <td>0</td>\n",
       "      <td>0</td>\n",
       "      <td>0</td>\n",
       "      <td>0</td>\n",
       "      <td>6</td>\n",
       "    </tr>\n",
       "    <tr>\n",
       "      <th>2</th>\n",
       "      <td>1</td>\n",
       "      <td>D2</td>\n",
       "      <td>26</td>\n",
       "      <td>0.230769</td>\n",
       "      <td>2</td>\n",
       "      <td>3</td>\n",
       "      <td>1</td>\n",
       "      <td>0.626866</td>\n",
       "      <td>0.745455</td>\n",
       "      <td>0.393305</td>\n",
       "      <td>...</td>\n",
       "      <td>0</td>\n",
       "      <td>0</td>\n",
       "      <td>0</td>\n",
       "      <td>0</td>\n",
       "      <td>0</td>\n",
       "      <td>0</td>\n",
       "      <td>0</td>\n",
       "      <td>0</td>\n",
       "      <td>0</td>\n",
       "      <td>1</td>\n",
       "    </tr>\n",
       "    <tr>\n",
       "      <th>3</th>\n",
       "      <td>1</td>\n",
       "      <td>D4</td>\n",
       "      <td>26</td>\n",
       "      <td>0.230769</td>\n",
       "      <td>2</td>\n",
       "      <td>3</td>\n",
       "      <td>1</td>\n",
       "      <td>0.268657</td>\n",
       "      <td>0.690909</td>\n",
       "      <td>0.246862</td>\n",
       "      <td>...</td>\n",
       "      <td>0</td>\n",
       "      <td>0</td>\n",
       "      <td>0</td>\n",
       "      <td>0</td>\n",
       "      <td>0</td>\n",
       "      <td>0</td>\n",
       "      <td>0</td>\n",
       "      <td>0</td>\n",
       "      <td>0</td>\n",
       "      <td>4</td>\n",
       "    </tr>\n",
       "    <tr>\n",
       "      <th>4</th>\n",
       "      <td>1</td>\n",
       "      <td>E1</td>\n",
       "      <td>10</td>\n",
       "      <td>0.230769</td>\n",
       "      <td>2</td>\n",
       "      <td>3</td>\n",
       "      <td>1</td>\n",
       "      <td>0.641791</td>\n",
       "      <td>0.581818</td>\n",
       "      <td>0.466527</td>\n",
       "      <td>...</td>\n",
       "      <td>0</td>\n",
       "      <td>0</td>\n",
       "      <td>1</td>\n",
       "      <td>0</td>\n",
       "      <td>0</td>\n",
       "      <td>0</td>\n",
       "      <td>1</td>\n",
       "      <td>0</td>\n",
       "      <td>0</td>\n",
       "      <td>2</td>\n",
       "    </tr>\n",
       "  </tbody>\n",
       "</table>\n",
       "<p>5 rows × 129 columns</p>\n",
       "</div>"
      ],
      "text/plain": [
       "   Product_Info_1 Product_Info_2  Product_Info_3  Product_Info_4  \\\n",
       "0               1             A8              26        0.230769   \n",
       "1               1             D2              26        1.000000   \n",
       "2               1             D2              26        0.230769   \n",
       "3               1             D4              26        0.230769   \n",
       "4               1             E1              10        0.230769   \n",
       "\n",
       "   Product_Info_5  Product_Info_6  Product_Info_7   Ins_Age        Ht  \\\n",
       "0               2               3               1  0.492537  0.563636   \n",
       "1               3               3               1  0.671642  0.781818   \n",
       "2               2               3               1  0.626866  0.745455   \n",
       "3               2               3               1  0.268657  0.690909   \n",
       "4               2               3               1  0.641791  0.581818   \n",
       "\n",
       "         Wt  ...  Medical_Keyword_40  Medical_Keyword_41  Medical_Keyword_42  \\\n",
       "0  0.225941  ...                   0                   0                   0   \n",
       "1  0.326360  ...                   0                   0                   0   \n",
       "2  0.393305  ...                   0                   0                   0   \n",
       "3  0.246862  ...                   0                   0                   0   \n",
       "4  0.466527  ...                   0                   0                   1   \n",
       "\n",
       "   Medical_Keyword_43  Medical_Keyword_44  Medical_Keyword_45  \\\n",
       "0                   0                   0                   0   \n",
       "1                   0                   0                   0   \n",
       "2                   0                   0                   0   \n",
       "3                   0                   0                   0   \n",
       "4                   0                   0                   0   \n",
       "\n",
       "   Medical_Keyword_46  Medical_Keyword_47  Medical_Keyword_48  Response  \n",
       "0                   0                   0                   0         7  \n",
       "1                   0                   0                   0         6  \n",
       "2                   0                   0                   0         1  \n",
       "3                   0                   0                   0         4  \n",
       "4                   1                   0                   0         2  \n",
       "\n",
       "[5 rows x 129 columns]"
      ]
     },
     "execution_count": 60,
     "metadata": {},
     "output_type": "execute_result"
    }
   ],
   "source": [
    "dataset.head(5)"
   ]
  },
  {
   "cell_type": "code",
   "execution_count": 61,
   "metadata": {},
   "outputs": [
    {
     "data": {
      "text/plain": [
       "int64      107\n",
       "float64     18\n",
       "object       4\n",
       "dtype: int64"
      ]
     },
     "execution_count": 61,
     "metadata": {},
     "output_type": "execute_result"
    }
   ],
   "source": [
    "dataset.dtypes.value_counts()"
   ]
  },
  {
   "cell_type": "markdown",
   "metadata": {},
   "source": [
    "    3 types of data:\n",
    "        - int\n",
    "        - float\n",
    "        - object(string)"
   ]
  },
  {
   "cell_type": "markdown",
   "metadata": {},
   "source": [
    "### So we need to transform character type data into integers \n",
    "    - We decide to use onehotencode to eliminate the influence of number size \n",
    "    - when transformed into integers"
   ]
  },
  {
   "cell_type": "code",
   "execution_count": 62,
   "metadata": {},
   "outputs": [
    {
     "data": {
      "text/html": [
       "<div>\n",
       "<style scoped>\n",
       "    .dataframe tbody tr th:only-of-type {\n",
       "        vertical-align: middle;\n",
       "    }\n",
       "\n",
       "    .dataframe tbody tr th {\n",
       "        vertical-align: top;\n",
       "    }\n",
       "\n",
       "    .dataframe thead th {\n",
       "        text-align: right;\n",
       "    }\n",
       "</style>\n",
       "<table border=\"1\" class=\"dataframe\">\n",
       "  <thead>\n",
       "    <tr style=\"text-align: right;\">\n",
       "      <th></th>\n",
       "      <th>Product_Info_2</th>\n",
       "      <th>InsuredInfo_7</th>\n",
       "      <th>InsuredInfo_8</th>\n",
       "      <th>InsuredInfo_9</th>\n",
       "    </tr>\n",
       "  </thead>\n",
       "  <tbody>\n",
       "    <tr>\n",
       "      <th>0</th>\n",
       "      <td>A8</td>\n",
       "      <td>Female</td>\n",
       "      <td>NaN</td>\n",
       "      <td>Muslim</td>\n",
       "    </tr>\n",
       "    <tr>\n",
       "      <th>1</th>\n",
       "      <td>D2</td>\n",
       "      <td>Male</td>\n",
       "      <td>NaN</td>\n",
       "      <td>NaN</td>\n",
       "    </tr>\n",
       "    <tr>\n",
       "      <th>2</th>\n",
       "      <td>D2</td>\n",
       "      <td>Male</td>\n",
       "      <td>Caucasian</td>\n",
       "      <td>Jewish</td>\n",
       "    </tr>\n",
       "    <tr>\n",
       "      <th>3</th>\n",
       "      <td>D4</td>\n",
       "      <td>Female</td>\n",
       "      <td>NaN</td>\n",
       "      <td>NaN</td>\n",
       "    </tr>\n",
       "    <tr>\n",
       "      <th>4</th>\n",
       "      <td>E1</td>\n",
       "      <td>Female</td>\n",
       "      <td>NaN</td>\n",
       "      <td>NaN</td>\n",
       "    </tr>\n",
       "  </tbody>\n",
       "</table>\n",
       "</div>"
      ],
      "text/plain": [
       "  Product_Info_2 InsuredInfo_7 InsuredInfo_8 InsuredInfo_9\n",
       "0             A8        Female           NaN        Muslim\n",
       "1             D2          Male           NaN           NaN\n",
       "2             D2          Male     Caucasian        Jewish\n",
       "3             D4        Female           NaN           NaN\n",
       "4             E1        Female           NaN           NaN"
      ]
     },
     "execution_count": 62,
     "metadata": {},
     "output_type": "execute_result"
    }
   ],
   "source": [
    "dataset[dataset.columns[(dataset.dtypes == 'object')==True]].head(5)"
   ]
  },
  {
   "cell_type": "code",
   "execution_count": 63,
   "metadata": {},
   "outputs": [
    {
     "data": {
      "text/html": [
       "<div>\n",
       "<style scoped>\n",
       "    .dataframe tbody tr th:only-of-type {\n",
       "        vertical-align: middle;\n",
       "    }\n",
       "\n",
       "    .dataframe tbody tr th {\n",
       "        vertical-align: top;\n",
       "    }\n",
       "\n",
       "    .dataframe thead th {\n",
       "        text-align: right;\n",
       "    }\n",
       "</style>\n",
       "<table border=\"1\" class=\"dataframe\">\n",
       "  <thead>\n",
       "    <tr style=\"text-align: right;\">\n",
       "      <th></th>\n",
       "      <th>Product_Info_4</th>\n",
       "      <th>Ins_Age</th>\n",
       "      <th>Ht</th>\n",
       "      <th>Wt</th>\n",
       "      <th>BMI</th>\n",
       "      <th>Employment_Info_1</th>\n",
       "      <th>Employment_Info_4</th>\n",
       "      <th>Employment_Info_6</th>\n",
       "      <th>Insurance_History_5</th>\n",
       "      <th>Family_Hist_2</th>\n",
       "      <th>Family_Hist_3</th>\n",
       "      <th>Family_Hist_4</th>\n",
       "      <th>Family_Hist_5</th>\n",
       "      <th>Medical_History_1</th>\n",
       "      <th>Medical_History_10</th>\n",
       "      <th>Medical_History_15</th>\n",
       "      <th>Medical_History_24</th>\n",
       "      <th>Medical_History_32</th>\n",
       "    </tr>\n",
       "  </thead>\n",
       "  <tbody>\n",
       "    <tr>\n",
       "      <th>0</th>\n",
       "      <td>0.230769</td>\n",
       "      <td>0.492537</td>\n",
       "      <td>0.563636</td>\n",
       "      <td>0.225941</td>\n",
       "      <td>0.510720</td>\n",
       "      <td>0.0244</td>\n",
       "      <td>0.0</td>\n",
       "      <td>0.05</td>\n",
       "      <td>NaN</td>\n",
       "      <td>0.681159</td>\n",
       "      <td>NaN</td>\n",
       "      <td>0.492958</td>\n",
       "      <td>NaN</td>\n",
       "      <td>0.0</td>\n",
       "      <td>NaN</td>\n",
       "      <td>NaN</td>\n",
       "      <td>NaN</td>\n",
       "      <td>NaN</td>\n",
       "    </tr>\n",
       "    <tr>\n",
       "      <th>1</th>\n",
       "      <td>1.000000</td>\n",
       "      <td>0.671642</td>\n",
       "      <td>0.781818</td>\n",
       "      <td>0.326360</td>\n",
       "      <td>0.453033</td>\n",
       "      <td>0.5000</td>\n",
       "      <td>0.5</td>\n",
       "      <td>1.00</td>\n",
       "      <td>0.006667</td>\n",
       "      <td>NaN</td>\n",
       "      <td>0.490196</td>\n",
       "      <td>NaN</td>\n",
       "      <td>0.589286</td>\n",
       "      <td>4.0</td>\n",
       "      <td>NaN</td>\n",
       "      <td>196.0</td>\n",
       "      <td>196.0</td>\n",
       "      <td>NaN</td>\n",
       "    </tr>\n",
       "    <tr>\n",
       "      <th>2</th>\n",
       "      <td>0.230769</td>\n",
       "      <td>0.626866</td>\n",
       "      <td>0.745455</td>\n",
       "      <td>0.393305</td>\n",
       "      <td>0.598310</td>\n",
       "      <td>0.0400</td>\n",
       "      <td>0.0</td>\n",
       "      <td>0.60</td>\n",
       "      <td>0.000833</td>\n",
       "      <td>NaN</td>\n",
       "      <td>0.558824</td>\n",
       "      <td>NaN</td>\n",
       "      <td>0.598214</td>\n",
       "      <td>3.0</td>\n",
       "      <td>NaN</td>\n",
       "      <td>240.0</td>\n",
       "      <td>NaN</td>\n",
       "      <td>NaN</td>\n",
       "    </tr>\n",
       "    <tr>\n",
       "      <th>3</th>\n",
       "      <td>0.230769</td>\n",
       "      <td>0.268657</td>\n",
       "      <td>0.690909</td>\n",
       "      <td>0.246862</td>\n",
       "      <td>0.410638</td>\n",
       "      <td>0.0300</td>\n",
       "      <td>0.0</td>\n",
       "      <td>0.00</td>\n",
       "      <td>NaN</td>\n",
       "      <td>0.536232</td>\n",
       "      <td>NaN</td>\n",
       "      <td>0.478873</td>\n",
       "      <td>NaN</td>\n",
       "      <td>12.0</td>\n",
       "      <td>NaN</td>\n",
       "      <td>NaN</td>\n",
       "      <td>NaN</td>\n",
       "      <td>NaN</td>\n",
       "    </tr>\n",
       "    <tr>\n",
       "      <th>4</th>\n",
       "      <td>0.230769</td>\n",
       "      <td>0.641791</td>\n",
       "      <td>0.581818</td>\n",
       "      <td>0.466527</td>\n",
       "      <td>1.000000</td>\n",
       "      <td>0.0280</td>\n",
       "      <td>0.0</td>\n",
       "      <td>1.00</td>\n",
       "      <td>0.000039</td>\n",
       "      <td>NaN</td>\n",
       "      <td>0.647059</td>\n",
       "      <td>NaN</td>\n",
       "      <td>0.160714</td>\n",
       "      <td>1.0</td>\n",
       "      <td>NaN</td>\n",
       "      <td>NaN</td>\n",
       "      <td>NaN</td>\n",
       "      <td>NaN</td>\n",
       "    </tr>\n",
       "  </tbody>\n",
       "</table>\n",
       "</div>"
      ],
      "text/plain": [
       "   Product_Info_4   Ins_Age        Ht        Wt       BMI  Employment_Info_1  \\\n",
       "0        0.230769  0.492537  0.563636  0.225941  0.510720             0.0244   \n",
       "1        1.000000  0.671642  0.781818  0.326360  0.453033             0.5000   \n",
       "2        0.230769  0.626866  0.745455  0.393305  0.598310             0.0400   \n",
       "3        0.230769  0.268657  0.690909  0.246862  0.410638             0.0300   \n",
       "4        0.230769  0.641791  0.581818  0.466527  1.000000             0.0280   \n",
       "\n",
       "   Employment_Info_4  Employment_Info_6  Insurance_History_5  Family_Hist_2  \\\n",
       "0                0.0               0.05                  NaN       0.681159   \n",
       "1                0.5               1.00             0.006667            NaN   \n",
       "2                0.0               0.60             0.000833            NaN   \n",
       "3                0.0               0.00                  NaN       0.536232   \n",
       "4                0.0               1.00             0.000039            NaN   \n",
       "\n",
       "   Family_Hist_3  Family_Hist_4  Family_Hist_5  Medical_History_1  \\\n",
       "0            NaN       0.492958            NaN                0.0   \n",
       "1       0.490196            NaN       0.589286                4.0   \n",
       "2       0.558824            NaN       0.598214                3.0   \n",
       "3            NaN       0.478873            NaN               12.0   \n",
       "4       0.647059            NaN       0.160714                1.0   \n",
       "\n",
       "   Medical_History_10  Medical_History_15  Medical_History_24  \\\n",
       "0                 NaN                 NaN                 NaN   \n",
       "1                 NaN               196.0               196.0   \n",
       "2                 NaN               240.0                 NaN   \n",
       "3                 NaN                 NaN                 NaN   \n",
       "4                 NaN                 NaN                 NaN   \n",
       "\n",
       "   Medical_History_32  \n",
       "0                 NaN  \n",
       "1                 NaN  \n",
       "2                 NaN  \n",
       "3                 NaN  \n",
       "4                 NaN  "
      ]
     },
     "execution_count": 63,
     "metadata": {},
     "output_type": "execute_result"
    }
   ],
   "source": [
    "dataset[dataset.columns[(dataset.dtypes == 'float64')==True]].head(5)"
   ]
  },
  {
   "cell_type": "code",
   "execution_count": 64,
   "metadata": {},
   "outputs": [
    {
     "data": {
      "text/html": [
       "<div>\n",
       "<style scoped>\n",
       "    .dataframe tbody tr th:only-of-type {\n",
       "        vertical-align: middle;\n",
       "    }\n",
       "\n",
       "    .dataframe tbody tr th {\n",
       "        vertical-align: top;\n",
       "    }\n",
       "\n",
       "    .dataframe thead th {\n",
       "        text-align: right;\n",
       "    }\n",
       "</style>\n",
       "<table border=\"1\" class=\"dataframe\">\n",
       "  <thead>\n",
       "    <tr style=\"text-align: right;\">\n",
       "      <th></th>\n",
       "      <th>Product_Info_1</th>\n",
       "      <th>Product_Info_3</th>\n",
       "      <th>Product_Info_4</th>\n",
       "      <th>Product_Info_5</th>\n",
       "      <th>Product_Info_6</th>\n",
       "      <th>Product_Info_7</th>\n",
       "      <th>Ins_Age</th>\n",
       "      <th>Ht</th>\n",
       "      <th>Wt</th>\n",
       "      <th>BMI</th>\n",
       "      <th>...</th>\n",
       "      <th>Medical_Keyword_40</th>\n",
       "      <th>Medical_Keyword_41</th>\n",
       "      <th>Medical_Keyword_42</th>\n",
       "      <th>Medical_Keyword_43</th>\n",
       "      <th>Medical_Keyword_44</th>\n",
       "      <th>Medical_Keyword_45</th>\n",
       "      <th>Medical_Keyword_46</th>\n",
       "      <th>Medical_Keyword_47</th>\n",
       "      <th>Medical_Keyword_48</th>\n",
       "      <th>Response</th>\n",
       "    </tr>\n",
       "  </thead>\n",
       "  <tbody>\n",
       "    <tr>\n",
       "      <th>count</th>\n",
       "      <td>58881.000000</td>\n",
       "      <td>58881.000000</td>\n",
       "      <td>58881.000000</td>\n",
       "      <td>58881.000000</td>\n",
       "      <td>58881.000000</td>\n",
       "      <td>58881.000000</td>\n",
       "      <td>58881.000000</td>\n",
       "      <td>58881.000000</td>\n",
       "      <td>58881.000000</td>\n",
       "      <td>58881.000000</td>\n",
       "      <td>...</td>\n",
       "      <td>58881.000000</td>\n",
       "      <td>58881.000000</td>\n",
       "      <td>58881.000000</td>\n",
       "      <td>58881.000000</td>\n",
       "      <td>58881.000000</td>\n",
       "      <td>58881.000000</td>\n",
       "      <td>58881.000000</td>\n",
       "      <td>58881.000000</td>\n",
       "      <td>58881.000000</td>\n",
       "      <td>58881.000000</td>\n",
       "    </tr>\n",
       "    <tr>\n",
       "      <th>mean</th>\n",
       "      <td>1.026426</td>\n",
       "      <td>24.414956</td>\n",
       "      <td>0.328874</td>\n",
       "      <td>2.006946</td>\n",
       "      <td>2.673545</td>\n",
       "      <td>1.043681</td>\n",
       "      <td>0.405636</td>\n",
       "      <td>0.707294</td>\n",
       "      <td>0.292587</td>\n",
       "      <td>0.469455</td>\n",
       "      <td>...</td>\n",
       "      <td>0.056979</td>\n",
       "      <td>0.010020</td>\n",
       "      <td>0.045482</td>\n",
       "      <td>0.010649</td>\n",
       "      <td>0.007524</td>\n",
       "      <td>0.013740</td>\n",
       "      <td>0.008475</td>\n",
       "      <td>0.019956</td>\n",
       "      <td>0.054568</td>\n",
       "      <td>5.636097</td>\n",
       "    </tr>\n",
       "    <tr>\n",
       "      <th>std</th>\n",
       "      <td>0.160400</td>\n",
       "      <td>5.073111</td>\n",
       "      <td>0.282548</td>\n",
       "      <td>0.083055</td>\n",
       "      <td>0.739153</td>\n",
       "      <td>0.292271</td>\n",
       "      <td>0.197211</td>\n",
       "      <td>0.074246</td>\n",
       "      <td>0.089009</td>\n",
       "      <td>0.122168</td>\n",
       "      <td>...</td>\n",
       "      <td>0.231805</td>\n",
       "      <td>0.099599</td>\n",
       "      <td>0.208360</td>\n",
       "      <td>0.102642</td>\n",
       "      <td>0.086413</td>\n",
       "      <td>0.116409</td>\n",
       "      <td>0.091668</td>\n",
       "      <td>0.139849</td>\n",
       "      <td>0.227136</td>\n",
       "      <td>2.457097</td>\n",
       "    </tr>\n",
       "    <tr>\n",
       "      <th>min</th>\n",
       "      <td>1.000000</td>\n",
       "      <td>1.000000</td>\n",
       "      <td>0.000000</td>\n",
       "      <td>2.000000</td>\n",
       "      <td>1.000000</td>\n",
       "      <td>1.000000</td>\n",
       "      <td>0.000000</td>\n",
       "      <td>0.000000</td>\n",
       "      <td>0.000000</td>\n",
       "      <td>0.000000</td>\n",
       "      <td>...</td>\n",
       "      <td>0.000000</td>\n",
       "      <td>0.000000</td>\n",
       "      <td>0.000000</td>\n",
       "      <td>0.000000</td>\n",
       "      <td>0.000000</td>\n",
       "      <td>0.000000</td>\n",
       "      <td>0.000000</td>\n",
       "      <td>0.000000</td>\n",
       "      <td>0.000000</td>\n",
       "      <td>1.000000</td>\n",
       "    </tr>\n",
       "    <tr>\n",
       "      <th>25%</th>\n",
       "      <td>1.000000</td>\n",
       "      <td>26.000000</td>\n",
       "      <td>0.076923</td>\n",
       "      <td>2.000000</td>\n",
       "      <td>3.000000</td>\n",
       "      <td>1.000000</td>\n",
       "      <td>0.238806</td>\n",
       "      <td>0.654545</td>\n",
       "      <td>0.225941</td>\n",
       "      <td>0.385517</td>\n",
       "      <td>...</td>\n",
       "      <td>0.000000</td>\n",
       "      <td>0.000000</td>\n",
       "      <td>0.000000</td>\n",
       "      <td>0.000000</td>\n",
       "      <td>0.000000</td>\n",
       "      <td>0.000000</td>\n",
       "      <td>0.000000</td>\n",
       "      <td>0.000000</td>\n",
       "      <td>0.000000</td>\n",
       "      <td>4.000000</td>\n",
       "    </tr>\n",
       "    <tr>\n",
       "      <th>50%</th>\n",
       "      <td>1.000000</td>\n",
       "      <td>26.000000</td>\n",
       "      <td>0.230769</td>\n",
       "      <td>2.000000</td>\n",
       "      <td>3.000000</td>\n",
       "      <td>1.000000</td>\n",
       "      <td>0.402985</td>\n",
       "      <td>0.709091</td>\n",
       "      <td>0.288703</td>\n",
       "      <td>0.451349</td>\n",
       "      <td>...</td>\n",
       "      <td>0.000000</td>\n",
       "      <td>0.000000</td>\n",
       "      <td>0.000000</td>\n",
       "      <td>0.000000</td>\n",
       "      <td>0.000000</td>\n",
       "      <td>0.000000</td>\n",
       "      <td>0.000000</td>\n",
       "      <td>0.000000</td>\n",
       "      <td>0.000000</td>\n",
       "      <td>6.000000</td>\n",
       "    </tr>\n",
       "    <tr>\n",
       "      <th>75%</th>\n",
       "      <td>1.000000</td>\n",
       "      <td>26.000000</td>\n",
       "      <td>0.487179</td>\n",
       "      <td>2.000000</td>\n",
       "      <td>3.000000</td>\n",
       "      <td>1.000000</td>\n",
       "      <td>0.567164</td>\n",
       "      <td>0.763636</td>\n",
       "      <td>0.345188</td>\n",
       "      <td>0.532858</td>\n",
       "      <td>...</td>\n",
       "      <td>0.000000</td>\n",
       "      <td>0.000000</td>\n",
       "      <td>0.000000</td>\n",
       "      <td>0.000000</td>\n",
       "      <td>0.000000</td>\n",
       "      <td>0.000000</td>\n",
       "      <td>0.000000</td>\n",
       "      <td>0.000000</td>\n",
       "      <td>0.000000</td>\n",
       "      <td>8.000000</td>\n",
       "    </tr>\n",
       "    <tr>\n",
       "      <th>max</th>\n",
       "      <td>2.000000</td>\n",
       "      <td>38.000000</td>\n",
       "      <td>1.000000</td>\n",
       "      <td>3.000000</td>\n",
       "      <td>3.000000</td>\n",
       "      <td>3.000000</td>\n",
       "      <td>1.000000</td>\n",
       "      <td>1.000000</td>\n",
       "      <td>1.000000</td>\n",
       "      <td>1.000000</td>\n",
       "      <td>...</td>\n",
       "      <td>1.000000</td>\n",
       "      <td>1.000000</td>\n",
       "      <td>1.000000</td>\n",
       "      <td>1.000000</td>\n",
       "      <td>1.000000</td>\n",
       "      <td>1.000000</td>\n",
       "      <td>1.000000</td>\n",
       "      <td>1.000000</td>\n",
       "      <td>1.000000</td>\n",
       "      <td>8.000000</td>\n",
       "    </tr>\n",
       "  </tbody>\n",
       "</table>\n",
       "<p>8 rows × 125 columns</p>\n",
       "</div>"
      ],
      "text/plain": [
       "       Product_Info_1  Product_Info_3  Product_Info_4  Product_Info_5  \\\n",
       "count    58881.000000    58881.000000    58881.000000    58881.000000   \n",
       "mean         1.026426       24.414956        0.328874        2.006946   \n",
       "std          0.160400        5.073111        0.282548        0.083055   \n",
       "min          1.000000        1.000000        0.000000        2.000000   \n",
       "25%          1.000000       26.000000        0.076923        2.000000   \n",
       "50%          1.000000       26.000000        0.230769        2.000000   \n",
       "75%          1.000000       26.000000        0.487179        2.000000   \n",
       "max          2.000000       38.000000        1.000000        3.000000   \n",
       "\n",
       "       Product_Info_6  Product_Info_7       Ins_Age            Ht  \\\n",
       "count    58881.000000    58881.000000  58881.000000  58881.000000   \n",
       "mean         2.673545        1.043681      0.405636      0.707294   \n",
       "std          0.739153        0.292271      0.197211      0.074246   \n",
       "min          1.000000        1.000000      0.000000      0.000000   \n",
       "25%          3.000000        1.000000      0.238806      0.654545   \n",
       "50%          3.000000        1.000000      0.402985      0.709091   \n",
       "75%          3.000000        1.000000      0.567164      0.763636   \n",
       "max          3.000000        3.000000      1.000000      1.000000   \n",
       "\n",
       "                 Wt           BMI  ...  Medical_Keyword_40  \\\n",
       "count  58881.000000  58881.000000  ...        58881.000000   \n",
       "mean       0.292587      0.469455  ...            0.056979   \n",
       "std        0.089009      0.122168  ...            0.231805   \n",
       "min        0.000000      0.000000  ...            0.000000   \n",
       "25%        0.225941      0.385517  ...            0.000000   \n",
       "50%        0.288703      0.451349  ...            0.000000   \n",
       "75%        0.345188      0.532858  ...            0.000000   \n",
       "max        1.000000      1.000000  ...            1.000000   \n",
       "\n",
       "       Medical_Keyword_41  Medical_Keyword_42  Medical_Keyword_43  \\\n",
       "count        58881.000000        58881.000000        58881.000000   \n",
       "mean             0.010020            0.045482            0.010649   \n",
       "std              0.099599            0.208360            0.102642   \n",
       "min              0.000000            0.000000            0.000000   \n",
       "25%              0.000000            0.000000            0.000000   \n",
       "50%              0.000000            0.000000            0.000000   \n",
       "75%              0.000000            0.000000            0.000000   \n",
       "max              1.000000            1.000000            1.000000   \n",
       "\n",
       "       Medical_Keyword_44  Medical_Keyword_45  Medical_Keyword_46  \\\n",
       "count        58881.000000        58881.000000        58881.000000   \n",
       "mean             0.007524            0.013740            0.008475   \n",
       "std              0.086413            0.116409            0.091668   \n",
       "min              0.000000            0.000000            0.000000   \n",
       "25%              0.000000            0.000000            0.000000   \n",
       "50%              0.000000            0.000000            0.000000   \n",
       "75%              0.000000            0.000000            0.000000   \n",
       "max              1.000000            1.000000            1.000000   \n",
       "\n",
       "       Medical_Keyword_47  Medical_Keyword_48      Response  \n",
       "count        58881.000000        58881.000000  58881.000000  \n",
       "mean             0.019956            0.054568      5.636097  \n",
       "std              0.139849            0.227136      2.457097  \n",
       "min              0.000000            0.000000      1.000000  \n",
       "25%              0.000000            0.000000      4.000000  \n",
       "50%              0.000000            0.000000      6.000000  \n",
       "75%              0.000000            0.000000      8.000000  \n",
       "max              1.000000            1.000000      8.000000  \n",
       "\n",
       "[8 rows x 125 columns]"
      ]
     },
     "execution_count": 64,
     "metadata": {},
     "output_type": "execute_result"
    }
   ],
   "source": [
    "dataset.describe()"
   ]
  },
  {
   "cell_type": "markdown",
   "metadata": {},
   "source": [
    "### We can know from the table that some columns have been Normalized  0 ≤ value ≤ 1 \n",
    "    - So we may need to normalize those other data"
   ]
  },
  {
   "cell_type": "code",
   "execution_count": 65,
   "metadata": {},
   "outputs": [
    {
     "data": {
      "text/plain": [
       "Employment_Info_1      0.000323\n",
       "Employment_Info_4      0.114078\n",
       "Medical_History_1      0.149607\n",
       "Employment_Info_6      0.182623\n",
       "Family_Hist_4          0.323177\n",
       "Insurance_History_5    0.427642\n",
       "Family_Hist_2          0.482702\n",
       "Family_Hist_3          0.576621\n",
       "Family_Hist_5          0.703996\n",
       "InsuredInfo_9          0.749410\n",
       "Medical_History_15     0.750972\n",
       "InsuredInfo_8          0.879197\n",
       "Medical_History_24     0.935939\n",
       "Medical_History_32     0.981318\n",
       "Medical_History_10     0.990642\n",
       "dtype: float64"
      ]
     },
     "execution_count": 65,
     "metadata": {},
     "output_type": "execute_result"
    }
   ],
   "source": [
    "total_num = dataset.shape[0]\n",
    "nan_counts = dataset.notnull().sum()[dataset.notnull().sum() != 58881].sort_values(ascending=False)\n",
    "nan_num = nan_counts.shape[0]\n",
    "(total_num - nan_counts)  / total_num"
   ]
  },
  {
   "cell_type": "markdown",
   "metadata": {},
   "source": [
    "### So, the dataset have empty cells in some columns If we want to keep those data for processing, \n",
    "    - we need to fill empty cells or delete these columns if not important for model trainning\n",
    "    - Like Medical_History_10, Medical_History_32, Medical_History_24 they all lack of so many \n",
    "    - data in their column, so we can ignore them."
   ]
  },
  {
   "cell_type": "code",
   "execution_count": 66,
   "metadata": {},
   "outputs": [
    {
     "data": {
      "text/plain": [
       "'Response'"
      ]
     },
     "execution_count": 66,
     "metadata": {},
     "output_type": "execute_result"
    }
   ],
   "source": [
    "dataset.columns[-1]"
   ]
  },
  {
   "cell_type": "code",
   "execution_count": 67,
   "metadata": {},
   "outputs": [],
   "source": [
    "# Column Response => Column Target "
   ]
  },
  {
   "cell_type": "code",
   "execution_count": 68,
   "metadata": {},
   "outputs": [
    {
     "name": "stdout",
     "output_type": "stream",
     "text": [
      "Shape of features array (58881, 128)\n",
      "Shape of target array (58881,)\n"
     ]
    }
   ],
   "source": [
    "# Create numpy arrays for features and target\n",
    "df_X = dataset.drop('Response',axis=1)\n",
    "df_y = dataset['Response']\n",
    "print(\"Shape of features array\" , df_X.shape)\n",
    "print(\"Shape of target array\" ,df_y.shape)"
   ]
  },
  {
   "cell_type": "markdown",
   "metadata": {},
   "source": [
    "### Visualize the distribution of target"
   ]
  },
  {
   "cell_type": "code",
   "execution_count": 69,
   "metadata": {},
   "outputs": [
    {
     "data": {
      "text/plain": [
       "(array([ 6158.,     0.,  6495.,     0.,     0.,  1009.,     0.,     0.,\n",
       "         1420.,     0.,     0.,  5390.,     0.,     0., 11136.,     0.,\n",
       "            0.,  7946.,     0., 19327.]),\n",
       " array([1.  , 1.35, 1.7 , 2.05, 2.4 , 2.75, 3.1 , 3.45, 3.8 , 4.15, 4.5 ,\n",
       "        4.85, 5.2 , 5.55, 5.9 , 6.25, 6.6 , 6.95, 7.3 , 7.65, 8.  ]),\n",
       " <a list of 20 Patch objects>)"
      ]
     },
     "execution_count": 69,
     "metadata": {},
     "output_type": "execute_result"
    },
    {
     "data": {
      "image/png": "[encoded data removed]",
      "text/plain": [
       "<Figure size 432x288 with 1 Axes>"
      ]
     },
     "metadata": {
      "needs_background": "light"
     },
     "output_type": "display_data"
    }
   ],
   "source": [
    "import matplotlib.pyplot as plt\n",
    "%matplotlib inline\n",
    "plt.xlabel(\"value-y\")\n",
    "plt.ylabel(\"frequence-y\")\n",
    "plt.hist(df_y.values, bins=20)"
   ]
  },
  {
   "cell_type": "code",
   "execution_count": 70,
   "metadata": {},
   "outputs": [
    {
     "data": {
      "text/plain": [
       "<matplotlib.legend.Legend at 0x137e077d0>"
      ]
     },
     "execution_count": 70,
     "metadata": {},
     "output_type": "execute_result"
    },
    {
     "data": {
      "image/png": "[encoded data removed]",
      "text/plain": [
       "<Figure size 720x720 with 1 Axes>"
      ]
     },
     "metadata": {},
     "output_type": "display_data"
    }
   ],
   "source": [
    "def make_autopct(values):\n",
    "    def my_autopct(pct):\n",
    "        total = sum(values)\n",
    "        val = int(round(pct*total/100.0))\n",
    "        return '{p:.2f}%  ({v:d})'.format(p=pct,v=val)\n",
    "    return my_autopct\n",
    "\n",
    "plt.figure(figsize=(10,10))\n",
    "plt.pie(df_y.value_counts(), labels=df_y.value_counts().index, autopct=make_autopct(df_y.value_counts()))\n",
    "plt.legend()"
   ]
  },
  {
   "cell_type": "markdown",
   "metadata": {},
   "source": [
    "### Check the corr matrix of x, and  x_y"
   ]
  },
  {
   "cell_type": "code",
   "execution_count": 71,
   "metadata": {},
   "outputs": [
    {
     "data": {
      "text/plain": [
       "<matplotlib.colorbar.Colorbar at 0x133489310>"
      ]
     },
     "execution_count": 71,
     "metadata": {},
     "output_type": "execute_result"
    },
    {
     "data": {
      "image/png": "[encoded data removed]",
      "text/plain": [
       "<Figure size 864x864 with 2 Axes>"
      ]
     },
     "metadata": {
      "needs_background": "light"
     },
     "output_type": "display_data"
    }
   ],
   "source": [
    "corr_matrix_XX = df_X.corr()\n",
    "plt.rcParams['figure.figsize'] = (12, 12)\n",
    "plt.matshow(corr_matrix_XX, cmap=plt.cm.coolwarm_r, vmin=-1, vmax=1)\n",
    "plt.colorbar()"
   ]
  },
  {
   "cell_type": "markdown",
   "metadata": {},
   "source": [
    "### If two features have a very high correlation rate,\n",
    "    - we can eliminate one of them if it is sensible to the system"
   ]
  },
  {
   "cell_type": "code",
   "execution_count": 78,
   "metadata": {},
   "outputs": [],
   "source": [
    "dataset = dataset.drop([\"Product_Info_2\",\"InsuredInfo_7\",\"InsuredInfo_8\",\"InsuredInfo_9\"],axis=1)\n",
    "corr_matrix_XY = dataset.drop(\"Response\", axis=1).apply(lambda x: x.corr(dataset.Response))"
   ]
  },
  {
   "cell_type": "code",
   "execution_count": 100,
   "metadata": {},
   "outputs": [
    {
     "data": {
      "text/plain": [
       "Medical_Keyword_45     0.004952\n",
       "Product_Info_7         0.004825\n",
       "Medical_Keyword_8      0.004202\n",
       "Family_Hist_3          0.003265\n",
       "Product_Info_5         0.002011\n",
       "Insurance_History_1    0.001034\n",
       "Medical_History_26     0.000601\n",
       "Medical_History_36     0.000580\n",
       "Insurance_History_4    0.000567\n",
       "Medical_History_25     0.000428\n",
       "dtype: float64"
      ]
     },
     "execution_count": 100,
     "metadata": {},
     "output_type": "execute_result"
    }
   ],
   "source": [
    "abs_correlation = abs(corr_matrix_XY).sort_values(ascending=False, axis=0)\n",
    "abs_correlation[abs_correlation <= 0.005]"
   ]
  },
  {
   "cell_type": "markdown",
   "metadata": {},
   "source": [
    "### If the correlation between X,y is less than 0.05\n",
    "    - We may choose to ignore those features,\n",
    "    - because they don't have much influence on the result."
   ]
  },
  {
   "cell_type": "code",
   "execution_count": null,
   "metadata": {},
   "outputs": [],
   "source": []
  }
 ],
 "metadata": {
  "kernelspec": {
   "display_name": "Python 3",
   "language": "python",
   "name": "python3"
  },
  "language_info": {
   "codemirror_mode": {
    "name": "ipython",
    "version": 3
   },
   "file_extension": ".py",
   "mimetype": "text/x-python",
   "name": "python",
   "nbconvert_exporter": "python",
   "pygments_lexer": "ipython3",
   "version": "3.7.5"
  },
  "toc": {
   "base_numbering": 1,
   "nav_menu": {},
   "number_sections": true,
   "sideBar": true,
   "skip_h1_title": false,
   "title_cell": "Table of Contents",
   "title_sidebar": "Contents",
   "toc_cell": false,
   "toc_position": {},
   "toc_section_display": true,
   "toc_window_display": false
  }
 },
 "nbformat": 4,
 "nbformat_minor": 2
}
